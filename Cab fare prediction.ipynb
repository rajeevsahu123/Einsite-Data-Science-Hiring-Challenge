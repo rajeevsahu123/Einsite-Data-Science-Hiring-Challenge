{
 "cells": [
  {
   "cell_type": "code",
   "execution_count": 1,
   "metadata": {
    "collapsed": false
   },
   "outputs": [
    {
     "name": "stdout",
     "output_type": "stream",
     "text": [
      "Populating the interactive namespace from numpy and matplotlib\n"
     ]
    }
   ],
   "source": [
    "import numpy as np\n",
    "import pandas as pd\n",
    "import matplotlib.pyplot as plt\n",
    "%pylab inline"
   ]
  },
  {
   "cell_type": "code",
   "execution_count": 2,
   "metadata": {
    "collapsed": true
   },
   "outputs": [],
   "source": [
    "train = pd.read_csv('train.csv')\n",
    "test = pd.read_csv('test.csv')"
   ]
  },
  {
   "cell_type": "code",
   "execution_count": 26,
   "metadata": {
    "collapsed": true
   },
   "outputs": [],
   "source": [
    "def duration(pickup_date, dropoff_date, pickup_hr, dropoff_hr, pickup_min, dropoff_min):\n",
    "    if pickup_date != dropoff_date:\n",
    "        duration = (((24-pickup_hr) * 60 - pickup_min) + (dropoff_hr*60+dropoff_min))/60.0\n",
    "    else:\n",
    "        duration = ((dropoff_hr*60+dropoff_min) - (pickup_hr*60+pickup_min))/60.0\n",
    "    return duration"
   ]
  },
  {
   "cell_type": "code",
   "execution_count": 27,
   "metadata": {
    "collapsed": false
   },
   "outputs": [],
   "source": [
    "def distance(lat1, long1, lat2, long2):\n",
    "    from geopy.distance import vincenty, great_circle\n",
    "    from haversine import haversine\n",
    "    if (lat1 > 30) & (lat1 < 50) & (long1 > -80) & (long1 < -70) & (lat2 > 30) & (lat2 < 50) & (long2 > -80) & (long2 < -70):\n",
    "        distance = haversine((lat1, long1), (lat2, long2))\n",
    "        #distance1 = vincenty((lat1, long1), (lat2, long2)).miles\n",
    "    else:\n",
    "        distance = 0\n",
    "        #distnace1 = 0\n",
    "    return distance"
   ]
  },
  {
   "cell_type": "code",
   "execution_count": 28,
   "metadata": {
    "collapsed": false
   },
   "outputs": [],
   "source": [
    "def data_prep(dfinput):\n",
    "    df=pd.DataFrame()\n",
    "    df['vendor_532'] = np.where(dfinput.vendor_id == 'DST000532', 1, 0)\n",
    "    df['vendor_401'] = np.where(dfinput.vendor_id == 'DST000401', 1, 0)\n",
    "    df['vendor_543'] = np.where(dfinput.vendor_id == 'DST000543', 1, 0)\n",
    "\n",
    "    df['new_user'] = np.where(dfinput.new_user == 'YES', 1, 0)\n",
    "    df['new_user_missing'] = np.where(dfinput.new_user.isnull() == True, 1, 0)\n",
    "\n",
    "    df['toll_amt'] = np.log(dfinput.tolls_amount+2)\n",
    "\n",
    "    df['tip_missing'] = np.where(dfinput.tip_amount.isnull() == True, 1, 0)\n",
    "    df['tip_amt'] = np.where(dfinput.tip_amount.notnull() == True, np.log(dfinput.tip_amount+1), 0)\n",
    "\n",
    "    df['mta_tax'] = [np.abs(dfinput.mta_tax[i]) for i in range(len(dfinput))]\n",
    "    df['passenger_count'] = dfinput.passenger_count\n",
    "\n",
    "    df.pickup_datetime = pd.to_datetime(dfinput.pickup_datetime)\n",
    "    df.dropoff_datetime = pd.to_datetime(dfinput.dropoff_datetime)\n",
    "    df['pickup_date'] = df.pickup_datetime.dt.date\n",
    "    df['dropoff_date'] = df.dropoff_datetime.dt.date\n",
    "    df['pickup_hour'] = df.pickup_datetime.dt.hour\n",
    "    df['dropoff_hour'] = df.dropoff_datetime.dt.hour\n",
    "    df['pickup_min'] = df.pickup_datetime.dt.minute\n",
    "    df['dropoff_min'] = df.dropoff_datetime.dt.minute\n",
    "    \n",
    "    df['duration'] = [duration(df['pickup_date'][i], df['dropoff_date'][i], \n",
    "                                df['pickup_hour'][i], df['dropoff_hour'][i], \n",
    "                                df['pickup_min'][i], df['dropoff_min'][i]) for i in range(len(dfinput))]\n",
    "    \n",
    "    df['month'] = df.pickup_datetime.dt.month\n",
    "    df['weekday'] = df.pickup_datetime.dt.weekday\n",
    "    df['hour'] = df.pickup_datetime.dt.hour\n",
    "\n",
    "    df['rate_code_0'] = np.where(dfinput.rate_code == 0, 1, 0)\n",
    "    df['rate_code_1'] = np.where(dfinput.rate_code == 1, 1, 0)\n",
    "    df['rate_code_2'] = np.where(dfinput.rate_code == 2, 1, 0)\n",
    "    df['rate_code_3'] = np.where(dfinput.rate_code == 3, 1, 0)\n",
    "    df['rate_code_4'] = np.where(dfinput.rate_code == 4, 1, 0)\n",
    "    df['rate_code_5'] = np.where(dfinput.rate_code == 5, 1, 0)\n",
    "    df['rate_code_6'] = np.where(dfinput.rate_code == 6, 1, 0)\n",
    "    df['rate_code_99'] = np.where(dfinput.rate_code == 99, 1, 0)\n",
    "\n",
    "    df['store_flag'] = np.where(dfinput.store_and_fwd_flag == 'Y', 1, 0)\n",
    "    df['store_flag_missing'] = np.where(dfinput.store_and_fwd_flag.isnull() == True, 1, 0)\n",
    "\n",
    "    df['payment_CRD'] = np.where(dfinput.payment_type == 'CRD', 1, 0)\n",
    "    df['payment_CSH'] = np.where(dfinput.payment_type == 'CSH', 1, 0)\n",
    "    df['payment_UNK'] = np.where(dfinput.payment_type == 'UNK', 1, 0)\n",
    "    df['payment_NOC'] = np.where(dfinput.payment_type == 'NOC', 1, 0)\n",
    "\n",
    "    df['surcharge'] = np.where(((dfinput.surcharge >= 0) & (dfinput.surcharge < 5)) == True, dfinput.surcharge, 0)\n",
    "    df['distance'] = [distance(dfinput.pickup_latitude[i], dfinput.pickup_longitude[i], dfinput.dropoff_latitude[i], \n",
    "                                dfinput.dropoff_longitude[i]) for i in range(len(dfinput))]\n",
    "    \n",
    "    df.drop(['pickup_date', 'dropoff_date', 'pickup_hour', 'dropoff_hour', 'pickup_min', 'dropoff_min'], axis=1, inplace=1)\n",
    "        \n",
    "    return df"
   ]
  },
  {
   "cell_type": "code",
   "execution_count": 30,
   "metadata": {
    "collapsed": false
   },
   "outputs": [
    {
     "name": "stderr",
     "output_type": "stream",
     "text": [
      "C:\\ProgramData\\Anaconda2.1\\lib\\site-packages\\ipykernel\\__main__.py:10: RuntimeWarning: invalid value encountered in log\n"
     ]
    }
   ],
   "source": [
    "df_train = data_prep(train)\n",
    "#df_test = data_prep(test)"
   ]
  },
  {
   "cell_type": "code",
   "execution_count": 31,
   "metadata": {
    "collapsed": false
   },
   "outputs": [],
   "source": [
    "from sklearn.cross_validation import train_test_split\n",
    "from xgboost import XGBRegressor\n",
    "from sklearn.model_selection import GridSearchCV\n",
    "from sklearn.metrics import mean_absolute_error, mean_squared_error, r2_score"
   ]
  },
  {
   "cell_type": "code",
   "execution_count": 32,
   "metadata": {
    "collapsed": false
   },
   "outputs": [],
   "source": [
    "x_train, x_val, y_train, y_val = train_test_split(df_train, train.fare_amount, train_size=0.80, random_state=30)"
   ]
  },
  {
   "cell_type": "code",
   "execution_count": 33,
   "metadata": {
    "collapsed": false
   },
   "outputs": [
    {
     "name": "stdout",
     "output_type": "stream",
     "text": [
      "Fitting 2 folds for each of 1 candidates, totalling 2 fits\n"
     ]
    },
    {
     "name": "stderr",
     "output_type": "stream",
     "text": [
      "[Parallel(n_jobs=-1)]: Done   2 out of   2 | elapsed:   58.0s finished\n"
     ]
    },
    {
     "name": "stdout",
     "output_type": "stream",
     "text": [
      "{'n_estimators': 10, 'subsample': 0.7, 'learning_rate': 0.1, 'colsample_bytree': 0.8, 'max_depth': 10}\n"
     ]
    }
   ],
   "source": [
    "clf = XGBRegressor()\n",
    "param_grid = { \"n_estimators\" : [10],\n",
    "               \"learning_rate\" : [0.1],\n",
    "               \"max_depth\" : [10],\n",
    "               \"subsample\" : [0.7] ,\n",
    "               \"colsample_bytree\": [0.8]}\n",
    "grid_search = GridSearchCV(clf, param_grid, n_jobs=-1, cv=2, verbose=1)\n",
    "grid_search.fit(x_train, y_train)\n",
    "print grid_search.best_params_"
   ]
  },
  {
   "cell_type": "code",
   "execution_count": 34,
   "metadata": {
    "collapsed": false
   },
   "outputs": [
    {
     "name": "stdout",
     "output_type": "stream",
     "text": [
      "94.7847226317\n",
      "94.7820827628\n"
     ]
    }
   ],
   "source": [
    "print 100-mean_absolute_error(grid_search.predict(x_train), y_train)\n",
    "print 100-mean_absolute_error(grid_search.predict(x_val), y_val)"
   ]
  },
  {
   "cell_type": "code",
   "execution_count": 108,
   "metadata": {
    "collapsed": false
   },
   "outputs": [],
   "source": [
    "sub = pd.concat([pd.DataFrame(test.TID), pd.DataFrame(grid_search.predict(df_test), columns=['fare_amount'])], axis=1)"
   ]
  },
  {
   "cell_type": "code",
   "execution_count": 109,
   "metadata": {
    "collapsed": true
   },
   "outputs": [],
   "source": [
    "sub.to_csv('submission_28may_2.csv', index=0)"
   ]
  },
  {
   "cell_type": "code",
   "execution_count": 11,
   "metadata": {
    "collapsed": false
   },
   "outputs": [
    {
     "data": {
      "text/plain": [
       "<matplotlib.axes._subplots.AxesSubplot at 0x2b2d4320>"
      ]
     },
     "execution_count": 11,
     "metadata": {},
     "output_type": "execute_result"
    },
    {
     "data": {
      "image/png": "[encoded data removed]",
      "text/plain": [
       "<matplotlib.figure.Figure at 0x2b2b9860>"
      ]
     },
     "metadata": {},
     "output_type": "display_data"
    }
   ],
   "source": [
    "pd.concat([pd.DataFrame(x_train.columns, columns=['Features']), \n",
    "           pd.DataFrame(grid_search.best_estimator_.feature_importances_, columns=['Fscore'])], axis=1).set_index('Features').plot.bar()"
   ]
  },
  {
   "cell_type": "code",
   "execution_count": null,
   "metadata": {
    "collapsed": true
   },
   "outputs": [],
   "source": []
  }
 ],
 "metadata": {
  "anaconda-cloud": {},
  "kernelspec": {
   "display_name": "Python 2",
   "language": "python",
   "name": "python2"
  },
  "language_info": {
   "codemirror_mode": {
    "name": "ipython",
    "version": 2
   },
   "file_extension": ".py",
   "mimetype": "text/x-python",
   "name": "python",
   "nbconvert_exporter": "python",
   "pygments_lexer": "ipython2",
   "version": "2.7.13"
  }
 },
 "nbformat": 4,
 "nbformat_minor": 1
}
